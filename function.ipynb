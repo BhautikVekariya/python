{
 "cells": [
  {
   "cell_type": "code",
   "execution_count": null,
   "metadata": {
    "colab": {
     "base_uri": "https://localhost:8080/"
    },
    "executionInfo": {
     "elapsed": 113,
     "status": "ok",
     "timestamp": 1749614832911,
     "user": {
      "displayName": "Bhautik Vekariya",
      "userId": "05165639684488615121"
     },
     "user_tz": -330
    },
    "id": "H9AzLvdBDWoc",
    "outputId": "87d4f0f3-c78f-4db1-d111-0bbda2cadb21"
   },
   "outputs": [
    {
     "name": "stdout",
     "output_type": "stream",
     "text": [
      "30\n",
      "10\n",
      "0\n",
      "2.0\n",
      "bhautik 20\n"
     ]
    }
   ],
   "source": [
    "def sum(a,b):\n",
    "    print(a+b)\n",
    "    print(a-b)\n",
    "    print(a%b)\n",
    "    print(a/b)\n",
    "\n",
    "sum(20,10)\n",
    "\n",
    "def person(name,age):\n",
    "    print(name,age)\n",
    "person(\"bhautik\",20)"
   ]
  },
  {
   "cell_type": "code",
   "execution_count": null,
   "metadata": {
    "colab": {
     "base_uri": "https://localhost:8080/"
    },
    "executionInfo": {
     "elapsed": 25,
     "status": "ok",
     "timestamp": 1749616487919,
     "user": {
      "displayName": "Bhautik Vekariya",
      "userId": "05165639684488615121"
     },
     "user_tz": -330
    },
    "id": "PtmP9EYjKFGq",
    "outputId": "3de6f6b3-56dd-42c6-b830-cb8200481b1f"
   },
   "outputs": [
    {
     "name": "stdout",
     "output_type": "stream",
     "text": [
      "not prime\n"
     ]
    }
   ],
   "source": [
    "def prime(num):\n",
    "\n",
    "  for i in range(2,num//2+1):\n",
    "     if num %i ==0:\n",
    "        print(\"not prime\")\n",
    "        break\n",
    "  else:\n",
    "     print(\"prime\")\n",
    "\n",
    "prime(10)"
   ]
  },
  {
   "cell_type": "code",
   "execution_count": null,
   "metadata": {
    "colab": {
     "base_uri": "https://localhost:8080/"
    },
    "executionInfo": {
     "elapsed": 21,
     "status": "ok",
     "timestamp": 1749615368747,
     "user": {
      "displayName": "Bhautik Vekariya",
      "userId": "05165639684488615121"
     },
     "user_tz": -330
    },
    "id": "qxL3m2ayMAu5",
    "outputId": "372130c7-6e56-4e6a-8f4d-ec50b8d4666d"
   },
   "outputs": [
    {
     "name": "stdout",
     "output_type": "stream",
     "text": [
      "120\n"
     ]
    }
   ],
   "source": [
    "def fact(n):\n",
    "  fact=1\n",
    "\n",
    "  for i in range(1,n+1):\n",
    "      fact=fact*i\n",
    "  print(fact)\n",
    "fact(5)"
   ]
  },
  {
   "cell_type": "code",
   "execution_count": null,
   "metadata": {
    "colab": {
     "base_uri": "https://localhost:8080/"
    },
    "executionInfo": {
     "elapsed": 2252,
     "status": "ok",
     "timestamp": 1749616511165,
     "user": {
      "displayName": "Bhautik Vekariya",
      "userId": "05165639684488615121"
     },
     "user_tz": -330
    },
    "id": "WzL9qQ8eM9h-",
    "outputId": "384f4804-fcbb-44ee-cec2-0a5f687eca50"
   },
   "outputs": [
    {
     "name": "stdout",
     "output_type": "stream",
     "text": [
      "Enter your number:5\n",
      "5x1=5\n",
      "5x2=10\n",
      "5x3=15\n",
      "5x4=20\n",
      "5x5=25\n",
      "5x6=30\n",
      "5x7=35\n",
      "5x8=40\n",
      "5x9=45\n",
      "5x10=50\n"
     ]
    }
   ],
   "source": [
    "def table(n):\n",
    "   n=int(input(\"Enter your number:\"))\n",
    "   for i in range(1,11):\n",
    "       print(f\"{n}x{i}={n*i}\")\n",
    "table(5)"
   ]
  },
  {
   "cell_type": "code",
   "execution_count": null,
   "metadata": {
    "colab": {
     "base_uri": "https://localhost:8080/"
    },
    "executionInfo": {
     "elapsed": 10537,
     "status": "ok",
     "timestamp": 1749616364705,
     "user": {
      "displayName": "Bhautik Vekariya",
      "userId": "05165639684488615121"
     },
     "user_tz": -330
    },
    "id": "C5OEtqwFNrG-",
    "outputId": "f86f7a71-1f17-4bc3-c009-2efffeb93200"
   },
   "outputs": [
    {
     "name": "stdout",
     "output_type": "stream",
     "text": [
      "enter your number:5\n",
      "1\n",
      "5\n"
     ]
    }
   ],
   "source": [
    "def factors(n):\n",
    "   n=int(input(\"enter your number:\"))\n",
    "   for i in range(1,n+1):\n",
    "      if n%i==0:\n",
    "       print(i)\n",
    "factors(10)"
   ]
  },
  {
   "cell_type": "code",
   "execution_count": null,
   "metadata": {
    "colab": {
     "base_uri": "https://localhost:8080/"
    },
    "executionInfo": {
     "elapsed": 48,
     "status": "ok",
     "timestamp": 1749616757450,
     "user": {
      "displayName": "Bhautik Vekariya",
      "userId": "05165639684488615121"
     },
     "user_tz": -330
    },
    "id": "U0eZC6GeQuGG",
    "outputId": "26cfc86f-e472-49f9-dc87-10a750b8636a"
   },
   "outputs": [
    {
     "name": "stdout",
     "output_type": "stream",
     "text": [
      "NAMAN is a palindrome\n",
      "Bhautik is a plaindrome\n"
     ]
    }
   ],
   "source": [
    "def palindrome(st):\n",
    "  rev=\"\"\n",
    "  for i in range(len(st)-1,-1,-1):\n",
    "      rev+=st[i]\n",
    "  if rev==st:\n",
    "     print(f\"{st} is a palindrome\")\n",
    "  else:\n",
    "     print(f\"{st} is a plaindrome\")\n",
    "\n",
    "palindrome(\"NAMAN\")\n",
    "palindrome(\"Bhautik\")"
   ]
  },
  {
   "cell_type": "code",
   "execution_count": null,
   "metadata": {
    "colab": {
     "base_uri": "https://localhost:8080/"
    },
    "executionInfo": {
     "elapsed": 3932,
     "status": "ok",
     "timestamp": 1749616969589,
     "user": {
      "displayName": "Bhautik Vekariya",
      "userId": "05165639684488615121"
     },
     "user_tz": -330
    },
    "id": "TlsxS_7RSQkb",
    "outputId": "a8e250db-1a71-40f1-c1f6-e2f17590a751"
   },
   "outputs": [
    {
     "name": "stdout",
     "output_type": "stream",
     "text": [
      "enter your number: 56544\n",
      "4\n",
      "4\n",
      "5\n",
      "6\n",
      "5\n"
     ]
    }
   ],
   "source": [
    "# separate the number of the select the number\n",
    "\n",
    "def sep():\n",
    "   n=int(input(\"enter your number: \"))\n",
    "\n",
    "   while n >0:\n",
    "        print(n%10)\n",
    "        n=n//10\n",
    "\n",
    "sep()\n"
   ]
  },
  {
   "cell_type": "code",
   "execution_count": null,
   "metadata": {
    "colab": {
     "base_uri": "https://localhost:8080/"
    },
    "executionInfo": {
     "elapsed": 4258,
     "status": "ok",
     "timestamp": 1749617071930,
     "user": {
      "displayName": "Bhautik Vekariya",
      "userId": "05165639684488615121"
     },
     "user_tz": -330
    },
    "id": "QParkXurTDax",
    "outputId": "01552c3a-37bd-4b67-b54d-5054675fd68d"
   },
   "outputs": [
    {
     "name": "stdout",
     "output_type": "stream",
     "text": [
      "enter your number:- 644676333\n",
      "333676446\n"
     ]
    }
   ],
   "source": [
    "# reverse the number of the select the number\n",
    "\n",
    "def rev():\n",
    "    n=int(input(\"enter your number:- \"))\n",
    "    rev=0\n",
    "    while n>0:\n",
    "        rev=rev*10+n%10\n",
    "        n=n//10\n",
    "    print(rev)\n",
    "rev()"
   ]
  },
  {
   "cell_type": "code",
   "execution_count": null,
   "metadata": {
    "colab": {
     "base_uri": "https://localhost:8080/"
    },
    "executionInfo": {
     "elapsed": 66,
     "status": "ok",
     "timestamp": 1749786928436,
     "user": {
      "displayName": "Bhautik Vekariya",
      "userId": "05165639684488615121"
     },
     "user_tz": -330
    },
    "id": "EMTz45VnTMW5",
    "outputId": "575b750b-09a3-40a7-9ea7-9e9c80fe3791"
   },
   "outputs": [
    {
     "name": "stdout",
     "output_type": "stream",
     "text": [
      "*\n",
      "**\n",
      "***\n",
      "****\n",
      "*****\n"
     ]
    }
   ],
   "source": [
    "row=5\n",
    "\n",
    "for i in  range(1,row+1):\n",
    "     print(\"*\"*i)\n"
   ]
  },
  {
   "cell_type": "code",
   "execution_count": null,
   "metadata": {
    "colab": {
     "base_uri": "https://localhost:8080/"
    },
    "executionInfo": {
     "elapsed": 38,
     "status": "ok",
     "timestamp": 1749787194332,
     "user": {
      "displayName": "Bhautik Vekariya",
      "userId": "05165639684488615121"
     },
     "user_tz": -330
    },
    "id": "dmm23EpwbX1q",
    "outputId": "720f9dda-9f4a-4d51-a4bb-4a419b3a132e"
   },
   "outputs": [
    {
     "name": "stdout",
     "output_type": "stream",
     "text": [
      "*\n",
      "**\n",
      "***\n",
      "****\n",
      "*****\n"
     ]
    }
   ],
   "source": [
    "def pattern(star):\n",
    "    for row in range(1,star+1):\n",
    "       print(\"*\" * row)\n",
    "pattern(5)    #5 is a positional arugment"
   ]
  },
  {
   "cell_type": "code",
   "execution_count": null,
   "metadata": {
    "colab": {
     "base_uri": "https://localhost:8080/"
    },
    "executionInfo": {
     "elapsed": 73,
     "status": "ok",
     "timestamp": 1749787502249,
     "user": {
      "displayName": "Bhautik Vekariya",
      "userId": "05165639684488615121"
     },
     "user_tz": -330
    },
    "id": "Vdbiji7UcbKK",
    "outputId": "0b94c85f-5441-460f-c2d3-d7d27f182999"
   },
   "outputs": [
    {
     "name": "stdout",
     "output_type": "stream",
     "text": [
      "Area of rectangle: 200\n",
      "Area of rectangle: 200\n"
     ]
    }
   ],
   "source": [
    "def areaOfRectangle(length,breath):\n",
    "      print(\"Area of rectangle:\",length * breath)\n",
    "\n",
    "areaOfRectangle(10,20)\n",
    "\n",
    "areaOfRectangle(breath=20,length=10)"
   ]
  },
  {
   "cell_type": "code",
   "execution_count": null,
   "metadata": {
    "colab": {
     "base_uri": "https://localhost:8080/"
    },
    "executionInfo": {
     "elapsed": 722,
     "status": "ok",
     "timestamp": 1749789544436,
     "user": {
      "displayName": "Bhautik Vekariya",
      "userId": "05165639684488615121"
     },
     "user_tz": -330
    },
    "id": "A87EWkTUdmUp",
    "outputId": "f52c3967-63e3-43e9-9baf-0b7a5d1cc63e"
   },
   "outputs": [
    {
     "name": "stdout",
     "output_type": "stream",
     "text": [
      "    *\n",
      "   **\n",
      "  ***\n",
      " ****\n",
      "*****\n",
      "-----\n",
      "*****\n",
      " ****\n",
      "  ***\n",
      "   **\n",
      "    *\n"
     ]
    }
   ],
   "source": [
    "def pattern(star):\n",
    "    for row in range(1, star + 1):\n",
    "         print(\" \" * (star-row) + \"*\" * row)\n",
    "\n",
    "pattern(5)\n",
    "print(\"-\"*5)\n",
    "\n",
    "def patternReverse(star):\n",
    "    for row in range(star,0,-1):\n",
    "      print(\" \" * (star-row) + \"*\" * row)\n",
    "patternReverse(5)"
   ]
  },
  {
   "cell_type": "code",
   "execution_count": null,
   "metadata": {
    "colab": {
     "base_uri": "https://localhost:8080/"
    },
    "executionInfo": {
     "elapsed": 21,
     "status": "ok",
     "timestamp": 1749789558599,
     "user": {
      "displayName": "Bhautik Vekariya",
      "userId": "05165639684488615121"
     },
     "user_tz": -330
    },
    "id": "hxlPX0vZeGm7",
    "outputId": "51530367-d18f-45ad-e9c6-4088e141899c"
   },
   "outputs": [
    {
     "name": "stdout",
     "output_type": "stream",
     "text": [
      "*\n",
      "**\n",
      "***\n",
      "****\n",
      "*****\n",
      "-----\n",
      "*****\n",
      "****\n",
      "***\n",
      "**\n",
      "*\n"
     ]
    }
   ],
   "source": [
    "def pattern(star):\n",
    "  for row in range(1,star+1):\n",
    "     print(\"*\" * row)\n",
    "pattern(5)\n",
    "print(\"-\"*5)\n",
    "def patternReverse(star):\n",
    "  for row in range(star,0,-1):\n",
    "     print(\"*\" * row)\n",
    "\n",
    "patternReverse(5)\n"
   ]
  },
  {
   "cell_type": "code",
   "execution_count": null,
   "metadata": {},
   "outputs": [],
   "source": [
    "def sumOfNum(x,y):\n",
    "    return x+y\n",
    "\n",
    "result=sumOfNum(1,2)\n",
    "print(\"Result:-\",result)"
   ]
  },
  {
   "cell_type": "code",
   "execution_count": null,
   "metadata": {},
   "outputs": [],
   "source": [
    "def f():\n",
    "  return 0\n",
    "  print(\"asdf\")  #this line is not interpreted.\n",
    "\n",
    "result=f()\n",
    "print(result)\n"
   ]
  },
  {
   "cell_type": "code",
   "execution_count": null,
   "metadata": {},
   "outputs": [],
   "source": [
    "def send_message(age):\n",
    "  if age < 18:\n",
    "    return \"Not eligible to vote\"\n",
    "  else:\n",
    "    return \"eligible to vote.\"\n",
    "\n",
    "print(send_message(17))\n",
    "\n",
    "\n",
    "def send_message(age):\n",
    "     return \"Not eligible to vote.\" if age < 18 else \"eligible to vote.\"\n",
    "\n",
    "print(send_message(18))"
   ]
  },
  {
   "cell_type": "code",
   "execution_count": null,
   "metadata": {},
   "outputs": [],
   "source": [
    "def cricleCalc(radius):\n",
    "    perimeter=2* 3.14 * radius\n",
    "    area= 3.14 * (radius ** 2)\n",
    "\n",
    "    return perimeter,area\n",
    "print(cricleCalc(30))"
   ]
  },
  {
   "cell_type": "code",
   "execution_count": null,
   "metadata": {},
   "outputs": [],
   "source": [
    "x,y =1,2 # it is called list\n",
    "a,b=[1,2]\n",
    "\n",
    "print(x)\n",
    "print(y)\n",
    "print(a)\n",
    "print(b)\n"
   ]
  },
  {
   "cell_type": "code",
   "execution_count": null,
   "metadata": {},
   "outputs": [],
   "source": [
    "# For collecting perimeter and area separately from the function, we can do the following\n",
    "\n",
    "def cricleCalc(radius):\n",
    "    perimeter=2* 3.14 * radius\n",
    "    area= 3.14 * (radius ** 2)\n",
    "\n",
    "    return perimeter,area\n",
    "print(cricleCalc(30))\n",
    "\n",
    "p,a =cricleCalc(10)\n",
    "print(\"perimiter: \",p,\", Area :\",a)"
   ]
  },
  {
   "cell_type": "code",
   "execution_count": null,
   "metadata": {},
   "outputs": [],
   "source": [
    "name=\"vamsi\"\n",
    "age=20\n",
    "\n",
    "message=\"Hello, %s,I see that your are %d years old.\"\n",
    "print(message)\n"
   ]
  },
  {
   "cell_type": "code",
   "execution_count": null,
   "metadata": {},
   "outputs": [],
   "source": [
    "name=\"Sam\"\n",
    "age=23\n",
    "\n",
    "message=f\"Hello,{name},your age is {age}\"\n",
    "print(message)\n",
    "message=F\"Hello,{name},your age is {age}\"\n",
    "print(message)"
   ]
  },
  {
   "cell_type": "code",
   "execution_count": null,
   "metadata": {},
   "outputs": [],
   "source": [
    "from string import Template\n",
    "\n",
    "name=\"John\"\n",
    "age=45\n",
    "\n",
    "template=Template(\"Hello,$name I see that you are $age years old.\")\n",
    "\n",
    "message=template.substitute(name=\"sam\",age=20)\n",
    "print(message)"
   ]
  },
  {
   "cell_type": "markdown",
   "metadata": {},
   "source": [
    "Function practice:-\n"
   ]
  },
  {
   "cell_type": "code",
   "execution_count": null,
   "metadata": {},
   "outputs": [],
   "source": [
    "data = {\n",
    "    'plan_details' : \"Mega Data 999\",\n",
    "    'talktime_balance' : 12,\n",
    "    'data_balance' : 100,\n",
    "}\n",
    "\n",
    "def choice_input(choices):\n",
    "  choice = input(choices + \"\\nEnter your choice : \")\n",
    "  try:\n",
    "    choice = int(choice)\n",
    "    return choice\n",
    "  except:\n",
    "    print(\"Wrong input.\")\n",
    "    return choice_input(choices)\n",
    "\n",
    "def check_balance_menu():\n",
    "  MENU_CHOICES = \"\"\"\n",
    "  1. Talktime balance\n",
    "  2. Data balance\n",
    "  0. Go back to previous menu\n",
    "  \"\"\"\n",
    "  choice = choice_input(MENU_CHOICES)\n",
    "\n",
    "  match choice:\n",
    "    case 1:\n",
    "      print(f\"Your talktime balance is Rs.{data['talktime_balance']}.\")\n",
    "      main_menu()\n",
    "    case 2:\n",
    "      print(f\"You have {data['data_balance']}MB left in your data balance.\")\n",
    "      main_menu()\n",
    "    case 0:\n",
    "      print(\"Going back to previous menu.\")\n",
    "      main_menu()\n",
    "    case _:\n",
    "      print(\"Wrong input.\")\n",
    "      check_balance_menu()\n",
    "\n",
    "\n",
    "def plan_details_menu():\n",
    "  print(f\"Plan is {data['plan_details']}\")\n",
    "  main_menu()\n",
    "\n",
    "def recharge_menu():\n",
    "  amount = int(input(\"Enter the amount  : Rs.\"))\n",
    "  print(f\"Recharged for Rs.{amount}\")\n",
    "  data['talktime_balance'] += amount\n",
    "  print(f\"Your talktime balance is now Rs.{data['talktime_balance']}.\")\n",
    "  main_menu()\n",
    "\n",
    "\n",
    "def main_menu():\n",
    "  print(\"Welcome\")\n",
    "  MENU_CHOICES = \"\"\"\n",
    "  1. Check balance\n",
    "  2. Plan details\n",
    "  3. Recharge\n",
    "  0. Exit\n",
    "  \"\"\"\n",
    "  user_choice = choice_input(MENU_CHOICES)\n",
    "\n",
    "  match user_choice:\n",
    "    case 1:\n",
    "      check_balance_menu()\n",
    "    case 2:\n",
    "      plan_details_menu()\n",
    "    case 3:\n",
    "      recharge_menu()\n",
    "    case 0:\n",
    "      print(\"Exiting...\")\n",
    "      return 0\n",
    "    case _:\n",
    "      print(\"Invalid input. Try again.\")\n",
    "      main_menu()\n",
    "\n",
    "main_menu()\n",
    "\n"
   ]
  }
 ],
 "metadata": {
  "colab": {
   "authorship_tag": "ABX9TyOrx1GpbAGSUHLur66zgKFO",
   "provenance": []
  },
  "kernelspec": {
   "display_name": "Python 3",
   "name": "python3"
  },
  "language_info": {
   "name": "python"
  }
 },
 "nbformat": 4,
 "nbformat_minor": 0
}
